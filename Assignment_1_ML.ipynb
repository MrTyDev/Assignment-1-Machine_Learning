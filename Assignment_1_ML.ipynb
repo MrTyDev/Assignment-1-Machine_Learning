{
 "cells": [
  {
   "cell_type": "code",
   "execution_count": null,
   "metadata": {},
   "outputs": [],
   "source": [
    "import numpy as np\n",
    "import matplotlib.pyplot as plt\n",
    "import pandas as pd\n",
    "import seaborn as sns\n",
    "from sklearn import datasets\n",
    "from sklearn.model_selection import train_test_split\n",
    "from sklearn.linear_model import LogisticRegression\n",
    "from sklearn.metrics import mean_squared_error\n"
   ]
  },
  {
   "cell_type": "code",
   "execution_count": null,
   "metadata": {},
   "outputs": [],
   "source": [
    "# Load the datasets\n",
    "df_red_wine = pd.read_csv('winequality-red.csv', sep=';')\n",
    "df_white_wine = pd.read_csv('winequality-white.csv', sep=';')\n",
    "\n",
    "# Add a column to distinguish between red and white wine\n",
    "df_red_wine['type'] = 'Red'\n",
    "df_white_wine['type'] = 'White'\n",
    "\n",
    "# Concatenate the dataframes\n",
    "df = pd.concat([df_red_wine, df_white_wine])\n",
    "\n",
    "# Plot the quality distribution\n",
    "plt.figure(figsize=(10, 6))\n",
    "sns.countplot(x='quality', hue='type', data=df, palette={'Red': 'red', 'White': 'grey'})\n",
    "plt.xlabel('Quality')\n",
    "plt.ylabel('Count')\n",
    "plt.title('Quality Distribution of Red and White Wines')\n",
    "plt.show()"
   ]
  },
  {
   "cell_type": "code",
   "execution_count": null,
   "metadata": {},
   "outputs": [],
   "source": [
    "print(df_red_wine['quality'].value_counts())\n",
    "df_white_wine['quality'].value_counts()"
   ]
  },
  {
   "cell_type": "code",
   "execution_count": null,
   "metadata": {},
   "outputs": [],
   "source": [
    "datasets_list = [df_red_wine, df_white_wine]"
   ]
  },
  {
   "cell_type": "code",
   "execution_count": null,
   "metadata": {},
   "outputs": [],
   "source": [
    "from sklearn.preprocessing import StandardScaler\n",
    "\n",
    "# Initialize the scaler\n",
    "scaler = StandardScaler()\n",
    "scaled_datasets = []\n",
    "\n",
    "for dataset in datasets_list:\n",
    "    # Define the features\n",
    "    X = dataset.drop(['quality', 'type'], axis=1)\n",
    "\n",
    "    # Define the target\n",
    "    y = dataset['quality']\n",
    "\n",
    "    scaled_X = scaler.fit_transform(X)\n",
    "    scaled_dataset = pd.DataFrame(data=scaled_X, columns=X.columns)\n",
    "    scaled_dataset['quality'] = y.values\n",
    "    scaled_datasets.append(scaled_dataset)\n",
    "\n",
    "\n",
    "scaled_datasets[0].head()\n",
    "    "
   ]
  },
  {
   "cell_type": "code",
   "execution_count": null,
   "metadata": {},
   "outputs": [],
   "source": [
    "# Test correlation on the first scaled dataset\n",
    "correlation_matrix = scaled_datasets[0].corr()\n",
    "correlation_matrix"
   ]
  },
  {
   "cell_type": "code",
   "execution_count": null,
   "metadata": {},
   "outputs": [],
   "source": [
    "from sklearn.utils import resample\n",
    "\n",
    "# Function to downsample the majority class\n",
    "def downsample_majority_class(dataset):\n",
    "    # Separate majority and minority classes\n",
    "    majority_class_label = dataset['quality'].mode()[0]\n",
    "    minority_class = dataset[dataset['quality'] != majority_class_label]\n",
    "    majority_class = dataset[dataset['quality'] == majority_class_label]\n",
    "\n",
    "    # Downsample majority class\n",
    "    n_samples = min(len(minority_class), len(majority_class))\n",
    "    majority_class_downsampled = resample(majority_class,\n",
    "                                          replace=False,  # sample without replacement\n",
    "                                          n_samples=n_samples,  # to match minority class\n",
    "                                          random_state=42)  # reproducible results\n",
    "\n",
    "    # Combine minority class with downsampled majority class\n",
    "    downsampled_dataset = pd.concat([minority_class, majority_class_downsampled])\n",
    "\n",
    "    return downsampled_dataset\n",
    "\n",
    "# Downsample the majority class in both datasets\n",
    "downsampled_datasets = [downsample_majority_class(dataset) for dataset in scaled_datasets]"
   ]
  },
  {
   "cell_type": "code",
   "execution_count": null,
   "metadata": {},
   "outputs": [],
   "source": [
    "print(df_red_wine['quality'].value_counts())\n",
    "df_white_wine['quality'].value_counts()"
   ]
  },
  {
   "cell_type": "code",
   "execution_count": null,
   "metadata": {},
   "outputs": [],
   "source": [
    "for i in range(2):\n",
    "    print(downsampled_datasets[i]['quality'].value_counts())\n",
    "    \n"
   ]
  },
  {
   "cell_type": "code",
   "execution_count": null,
   "metadata": {},
   "outputs": [],
   "source": [
    "from sklearn.model_selection import RepeatedStratifiedKFold, cross_validate\n",
    "from sklearn.metrics import make_scorer, recall_score, f1_score\n",
    "from sklearn.linear_model import LogisticRegression\n",
    "import numpy as np\n",
    "\n",
    "# Define the cross-validation strategy\n",
    "cv = RepeatedStratifiedKFold(n_splits=3, n_repeats=10, random_state=423)\n",
    "\n",
    "# Define the scoring metrics\n",
    "scoring = {\n",
    "    'accuracy': 'accuracy',\n",
    "    'recall': make_scorer(recall_score, average='weighted'),\n",
    "    'f1': make_scorer(f1_score, average='weighted')\n",
    "}\n",
    "\n",
    "# Function to evaluate a model with cross-validation\n",
    "def cross_validate_model(model, X, y):\n",
    "    scores = cross_validate(model, X, y, cv=cv, scoring=scoring)\n",
    "    return scores\n",
    "\n",
    "# Evaluate models on original scaled datasets\n",
    "base_metrics = []\n",
    "for dataset in scaled_datasets:\n",
    "    X = dataset.drop('quality', axis=1)\n",
    "    y = dataset['quality']\n",
    "    model = LogisticRegression(random_state=42)\n",
    "    scores = cross_validate_model(model, X, y)\n",
    "    base_metrics.append(scores)\n",
    "\n",
    "# Evaluate models on downsampled datasets\n",
    "downsampled_metrics = []\n",
    "for dataset in downsampled_datasets:\n",
    "    X = dataset.drop('quality', axis=1)\n",
    "    y = dataset['quality']\n",
    "    model = LogisticRegression(class_weight={cls: 1.0 for cls in y.unique()}, random_state=42)\n",
    "    model.class_weight[y.mode()[0]] = 0.5  # Reduce the importance of the majority class\n",
    "    scores = cross_validate_model(model, X, y)\n",
    "    downsampled_metrics.append(scores)\n",
    "\n",
    "# Calculate mean and std for both sets of models\n",
    "base_metrics_mean = {metric: np.mean([m['test_' + metric] for m in base_metrics]) for metric in scoring.keys()}\n",
    "base_metrics_std = {metric: np.std([m['test_' + metric] for m in base_metrics]) for metric in scoring.keys()}\n",
    "downsampled_metrics_mean = {metric: np.mean([m['test_' + metric] for m in downsampled_metrics]) for metric in scoring.keys()}\n",
    "downsampled_metrics_std = {metric: np.std([m['test_' + metric] for m in downsampled_metrics]) for metric in scoring.keys()}\n",
    "\n",
    "# Print the results\n",
    "print(\"Base Models Metrics (Mean ± Std):\")\n",
    "for metric in scoring.keys():\n",
    "    print(f\"{metric.capitalize()}: {base_metrics_mean[metric]:.4f} ± {base_metrics_std[metric]:.4f}\")\n",
    "\n",
    "print(\"\\nDownsampled Models Metrics (Mean ± Std):\")\n",
    "for metric in scoring.keys():\n",
    "    print(f\"{metric.capitalize()}: {downsampled_metrics_mean[metric]:.4f} ± {downsampled_metrics_std[metric]:.4f}\")"
   ]
  }
 ],
 "metadata": {
  "kernelspec": {
   "display_name": "base",
   "language": "python",
   "name": "python3"
  },
  "language_info": {
   "codemirror_mode": {
    "name": "ipython",
    "version": 3
   },
   "file_extension": ".py",
   "mimetype": "text/x-python",
   "name": "python",
   "nbconvert_exporter": "python",
   "pygments_lexer": "ipython3",
   "version": "3.12.3"
  }
 },
 "nbformat": 4,
 "nbformat_minor": 2
}
